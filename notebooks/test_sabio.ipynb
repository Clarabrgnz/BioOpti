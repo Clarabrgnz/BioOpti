{
 "cells": [
  {
   "cell_type": "code",
   "execution_count": 15,
   "metadata": {},
   "outputs": [],
   "source": [
    "import sys\n",
    "import os\n",
    "\n",
    "project_root = os.path.abspath(\"../src\")  # This points to the src/ directory\n",
    "if project_root not in sys.path:\n",
    "    sys.path.insert(0, project_root)\n",
    "\n"
   ]
  },
  {
   "cell_type": "code",
   "execution_count": 16,
   "metadata": {},
   "outputs": [
    {
     "data": {
      "text/plain": [
       "<module 'bioopti.sabio' from '/Users/clarabergonzi/Desktop/BioOpti/src/bioopti/sabio.py'>"
      ]
     },
     "execution_count": 16,
     "metadata": {},
     "output_type": "execute_result"
    }
   ],
   "source": [
    "import importlib\n",
    "import bioopti.sabio\n",
    "importlib.reload(bioopti.sabio)\n",
    "\n"
   ]
  },
  {
   "cell_type": "code",
   "execution_count": 17,
   "metadata": {},
   "outputs": [
    {
     "data": {
      "text/plain": [
       "['__builtins__',\n",
       " '__cached__',\n",
       " '__doc__',\n",
       " '__file__',\n",
       " '__loader__',\n",
       " '__name__',\n",
       " '__package__',\n",
       " '__spec__',\n",
       " '_prompt_user_for_value',\n",
       " 'get_kinetic_params_from_sabio',\n",
       " 're',\n",
       " 'requests']"
      ]
     },
     "execution_count": 17,
     "metadata": {},
     "output_type": "execute_result"
    }
   ],
   "source": [
    "dir(bioopti.sabio)\n"
   ]
  },
  {
   "cell_type": "markdown",
   "metadata": {},
   "source": [
    "Try it out with real parameters.\n",
    "✅ If SABIO-RK finds values, you’ll get a dictionary like {'km': ..., 'vmax': ..., ...}.\n",
    "⚠️ If some values are missing and interactive=True, it will ask you to input them."
   ]
  },
  {
   "cell_type": "code",
   "execution_count": 18,
   "metadata": {},
   "outputs": [
    {
     "name": "stdout",
     "output_type": "stream",
     "text": [
      "\n",
      "🔍 Querying SABIO-RK for: lactate dehydrogenase (Homo sapiens)...\n",
      "❌ Error accessing SABIO-RK: 400 Client Error:  for url: https://sabiork.h-its.org/sabioRestWebServices/kineticLaws?format=txt&query=EnzymeName%3A%22lactate+dehydrogenase%22+AND+Organism%3A%22Homo+sapiens%22\n"
     ]
    },
    {
     "data": {
      "text/plain": [
       "{'km': 0.6, 'vmax': 14.0, 'optimal_pH': 7.2, 'optimal_temp': 37.0}"
      ]
     },
     "execution_count": 18,
     "metadata": {},
     "output_type": "execute_result"
    }
   ],
   "source": [
    "from bioopti.sabio import get_kinetic_params_from_sabio\n",
    "\n",
    "params = get_kinetic_params_from_sabio(\"lactate dehydrogenase\", \"Homo sapiens\")\n",
    "params\n"
   ]
  }
 ],
 "metadata": {
  "kernelspec": {
   "display_name": "ppchem",
   "language": "python",
   "name": "python3"
  },
  "language_info": {
   "codemirror_mode": {
    "name": "ipython",
    "version": 3
   },
   "file_extension": ".py",
   "mimetype": "text/x-python",
   "name": "python",
   "nbconvert_exporter": "python",
   "pygments_lexer": "ipython3",
   "version": "3.10.16"
  }
 },
 "nbformat": 4,
 "nbformat_minor": 2
}
